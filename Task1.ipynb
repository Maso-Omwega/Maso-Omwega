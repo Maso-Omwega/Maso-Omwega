{
  "nbformat": 4,
  "nbformat_minor": 0,
  "metadata": {
    "colab": {
      "name": "Task1.ipynb",
      "provenance": [],
      "authorship_tag": "ABX9TyOYWG+BM8p1I8KFofnlk1qi",
      "include_colab_link": true
    },
    "kernelspec": {
      "name": "python3",
      "display_name": "Python 3"
    },
    "language_info": {
      "name": "python"
    }
  },
  "cells": [
    {
      "cell_type": "markdown",
      "metadata": {
        "id": "view-in-github",
        "colab_type": "text"
      },
      "source": [
        "<a href=\"https://colab.research.google.com/github/Maso-Omwega/Maso-Omwega/blob/main/Task1.ipynb\" target=\"_parent\"><img src=\"https://colab.research.google.com/assets/colab-badge.svg\" alt=\"Open In Colab\"/></a>"
      ]
    },
    {
      "cell_type": "code",
      "source": [
        "import pandas as pd\n",
        "import matplotlib.pyplot as plt\n",
        "import numpy as np\n",
        "from sklearn.datasets import make_regression"
      ],
      "metadata": {
        "id": "YbOm-yc4jPyx"
      },
      "execution_count": 14,
      "outputs": []
    },
    {
      "cell_type": "code",
      "source": [
        "n=0.4\n",
        "k=0.2\n",
        "L=0.0001 \n",
        "epoch=100 \n",
        "epoch_error=[]\n",
        "epoch_count=[]"
      ],
      "metadata": {
        "id": "0_Xdw75Qjvqg"
      },
      "execution_count": 15,
      "outputs": []
    },
    {
      "cell_type": "code",
      "source": [
        "noise=np.random.normal(1,15,100)"
      ],
      "metadata": {
        "id": "u5zYAjq6swDa"
      },
      "execution_count": 16,
      "outputs": []
    },
    {
      "cell_type": "code",
      "source": [
        "X=np.random.uniform(10,100,100)\n",
        "y=n*X+k\n",
        "Y=y+noise\n",
        "\n",
        "N=float(len(X))"
      ],
      "metadata": {
        "id": "I5Bmz5E0s2hh"
      },
      "execution_count": 17,
      "outputs": []
    },
    {
      "cell_type": "code",
      "source": [
        "def mse(N,Y,Y_hat):\n",
        "  return (1/N)*sum(Y-Y_hat)**2"
      ],
      "metadata": {
        "id": "ZHSD1UN4tmNA"
      },
      "execution_count": 18,
      "outputs": []
    },
    {
      "cell_type": "code",
      "source": [
        "def gradient_descent_fit(n,k,N,L):\n",
        "  epoch_error=[]\n",
        "  epoch_count=[]\n",
        "  for i in range(epoch):\n",
        "    Y_hat = n*X+k\n",
        "    \n",
        "    epoch_count=epoch_count[:]\n",
        "    epoch_count.append(i)\n",
        "    epoch_err=mse(N,Y,Y_hat)\n",
        "    epoch_error=epoch_error[:]\n",
        "    epoch_error.append(epoch_err)\n",
        "\n",
        "    D_n=(-2/N)*sum(X*(Y-Y_hat))\n",
        "  \n",
        "    D_k=(-2/N)*sum(Y-Y_hat)\n",
        "    \n",
        "   \n",
        "    n=n-(L * D_n)\n",
        "    k=k-(L * D_k)\n",
        "\n",
        "  print(\"final n is: \",n,\" and final k is: \",k)\n",
        "\n",
        "  return Y_hat,epoch_count,epoch_error\n"
      ],
      "metadata": {
        "id": "KDMnAALrt3BX"
      },
      "execution_count": 19,
      "outputs": []
    },
    {
      "cell_type": "code",
      "source": [
        "returned_params=gradient_descent_fit(n,k,N,L)\n",
        "y_predicted=returned_params[0]\n",
        "total_epochs=returned_params[1]\n",
        "all_epoch_errors=returned_params[2]"
      ],
      "metadata": {
        "colab": {
          "base_uri": "https://localhost:8080/"
        },
        "id": "BUpmRixhu3zx",
        "outputId": "70b0ba54-f6a1-4936-883c-2e6ebe1e1d4e"
      },
      "execution_count": 20,
      "outputs": [
        {
          "output_type": "stream",
          "name": "stdout",
          "text": [
            "final n is:  0.4143101715114725  and final k is:  0.20599371215299728\n"
          ]
        }
      ]
    },
    {
      "cell_type": "code",
      "source": [
        "fig,(ax1,ax2)=plt.subplots(2,gridspec_kw={'top':2})\n",
        "ax1.set(xlabel=\"Office size Sq ft\")\n",
        "ax1.set(ylabel=\"Monthly Rent Ksh. (X1000)\")\n",
        "ax1.set_title(\"Regression Model For Office Prices.\\n\\n Graph 1 (Main): Line of Best Fit\")\n",
        "ax1.scatter(X,Y)\n",
        "\n",
        "ax1.plot([min(X),max(X)],[min(y_predicted),max(y_predicted)],color='black')\n",
        "ax2.set_title(\"Graph 2:MSE Monitoring Error Curve\")\n",
        "ax2.set(xlabel=\"Epochs/Iteration\")\n",
        "ax2.set(ylabel=\"Mean Squared Error\")\n",
        "ax2.plot(total_epochs,all_epoch_errors)\n",
        "\n",
        "epoch_count.clear()\n",
        "epoch_error.clear()"
      ],
      "metadata": {
        "colab": {
          "base_uri": "https://localhost:8080/",
          "height": 849
        },
        "id": "3zwuxvLevOJ7",
        "outputId": "ab0c9fd9-79fd-4355-b35a-cbbe3281d6a1"
      },
      "execution_count": 22,
      "outputs": [
        {
          "output_type": "error",
          "ename": "NameError",
          "evalue": "ignored",
          "traceback": [
            "\u001b[0;31m---------------------------------------------------------------------------\u001b[0m",
            "\u001b[0;31mNameError\u001b[0m                                 Traceback (most recent call last)",
            "\u001b[0;32m<ipython-input-22-1a3c402e1681>\u001b[0m in \u001b[0;36m<module>\u001b[0;34m()\u001b[0m\n\u001b[1;32m     11\u001b[0m \u001b[0max2\u001b[0m\u001b[0;34m.\u001b[0m\u001b[0mplot\u001b[0m\u001b[0;34m(\u001b[0m\u001b[0mtotal_epochs\u001b[0m\u001b[0;34m,\u001b[0m\u001b[0mall_epoch_errors\u001b[0m\u001b[0;34m)\u001b[0m\u001b[0;34m\u001b[0m\u001b[0;34m\u001b[0m\u001b[0m\n\u001b[1;32m     12\u001b[0m \u001b[0;34m\u001b[0m\u001b[0m\n\u001b[0;32m---> 13\u001b[0;31m \u001b[0mepoch_count\u001b[0m\u001b[0;34m.\u001b[0m\u001b[0mclear\u001b[0m\u001b[0;34m(\u001b[0m\u001b[0;34m)\u001b[0m\u001b[0;34m\u001b[0m\u001b[0;34m\u001b[0m\u001b[0m\n\u001b[0m\u001b[1;32m     14\u001b[0m \u001b[0mepoch_error\u001b[0m\u001b[0;34m.\u001b[0m\u001b[0mclear\u001b[0m\u001b[0;34m(\u001b[0m\u001b[0;34m)\u001b[0m\u001b[0;34m\u001b[0m\u001b[0;34m\u001b[0m\u001b[0m\n",
            "\u001b[0;31mNameError\u001b[0m: name 'epoch_count' is not defined"
          ]
        },
        {
          "output_type": "display_data",
          "data": {
            "text/plain": [
              "<Figure size 432x288 with 2 Axes>"
            ],
            "image/png": "[encoded data removed]"
          },
          "metadata": {
            "needs_background": "light"
          }
        }
      ]
    }
  ]
}